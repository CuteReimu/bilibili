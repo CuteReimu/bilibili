{
 "cells": [
  {
   "cell_type": "markdown",
   "metadata": {},
   "source": [
    "# 生成工具的使用方法"
   ]
  },
  {
   "cell_type": "code",
   "execution_count": 1,
   "metadata": {},
   "outputs": [
    {
     "name": "stdout",
     "output_type": "stream",
     "text": [
      "请输入Markdown表格，在最后一行之后输入ok表示结束：（退出请输入exit）\n"
     ]
    }
   ],
   "source": [
    "python3 gen_struct.py"
   ]
  },
  {
   "cell_type": "code",
   "execution_count": 2,
   "metadata": {},
   "outputs": [
    {
     "name": "stdout",
     "output_type": "stream",
     "text": [
      "type T struct {\n",
      "\tId int `json:\"id\"` // 专栏cvid\n",
      "\tTitle string `json:\"title\"` // 文章标题\n",
      "\tState int `json:\"state\"` // 0。作用尚不明确\n",
      "\tPublishTime int `json:\"publish_time\"` // 发布时间。秒时间戳\n",
      "\tWords int `json:\"words\"` // 文章字数\n",
      "\tImageUrls []ImageUrl `json:\"image_urls\"` // 文章封面\n",
      "\tCategory Category `json:\"category\"` // 文章标签\n",
      "\tCategories []Categorie `json:\"categories\"` // 文章标签列表\n",
      "\tSummary string `json:\"summary\"` // 文章摘要\n",
      "\tStats Stats `json:\"stats\"` // 文章状态数信息\n",
      "\tLikeState int `json:\"like_state\"` // 是否点赞。0：未点赞。1：已点赞。需要登录(Cookie) 。未登录为0\n",
      "}\n"
     ]
    }
   ],
   "source": [
    "| 字段         | 类型  | 内容           | 备注                                                         |\n",
    "| ------------ | ----- | -------------- | ------------------------------------------------------------ |\n",
    "| id           | num   | 专栏cvid       |                                                              |\n",
    "| title        | str   | 文章标题       |                                                              |\n",
    "| state        | num   | 0              | 作用尚不明确                                                 |\n",
    "| publish_time | num   | 发布时间       | 秒时间戳                                                     |\n",
    "| words        | num   | 文章字数       |                                                              |\n",
    "| image_urls   | array | 文章封面       |                                                              |\n",
    "| category     | obj   | 文章标签       |                                                              |\n",
    "| categories   | array | 文章标签列表   |                                                              |\n",
    "| summary      | str   | 文章摘要       |                                                              |\n",
    "| stats        | obj   | 文章状态数信息 |                                                              |\n",
    "| like_state   | num   | 是否点赞       | 0：未点赞<br />1：已点赞<br />需要登录(Cookie) <br />未登录为0 |\n",
    "ok"
   ]
  },
  {
   "cell_type": "code",
   "execution_count": 3,
   "metadata": {},
   "outputs": [],
   "source": [
    "exit"
   ]
  },
  {
   "cell_type": "markdown",
   "metadata": {},
   "source": [
    "然后自行复制到go代码中去，把`T`改个名即可。"
   ]
  },
  {
   "cell_type": "markdown",
   "id": "a0c6fa75-919d-42be-b419-fa9ab01c529e",
   "metadata": {},
   "source": [
    "# 命名规范\n",
    "\n",
    "- 函数命名参考中文翻译，例如“获取全部直播间分区列表”翻译成`GetLiveAreaList`，每个词一一对应，个别词语在不影响理解的情况下可以省略，例如这里“全部”被省略了。\n",
    "  - 可以参考一下bilibili-API-collect库的翻译，例如专栏文集叫“Articles”，专栏文章叫“Article”。\n",
    "- 函数传入参数的结构体名定义为`GetLiveAreaListParam`，也就是后面加“Param”，然后返回值定义为`GetLiveAreaListResult`，也就是后面加“Result”。\n",
    "  - 如果完全没有传入参数，没必要弄个空的结构体，留空即可。\n",
    "  - 对于“Get”类的函数，返回值可以简写成`LiveAreaList`，也就是把“Get”和“Result”省略掉。\n",
    "  - 传入参数中的`csrf`特殊处理一下，不用调用者手动填写，可以参考一下`live.go`。\n",
    "- 子类型的名字（例如`Category`）可以自己随意修改，只要易读即可。\n",
    "- 子类型如果能够复用尽量复用，例如`Category`可能在别的结构体里也复用了。"
   ]
  }
 ],
 "metadata": {
  "kernelspec": {
   "display_name": "Python 3",
   "language": "python",
   "name": "python3"
  },
  "language_info": {
   "codemirror_mode": {
    "name": "ipython",
    "version": 3
   },
   "file_extension": ".py",
   "mimetype": "text/x-python",
   "name": "python",
   "nbconvert_exporter": "python",
   "pygments_lexer": "ipython3",
   "version": "3.10.13"
  },
  "orig_nbformat": 4
 },
 "nbformat": 4,
 "nbformat_minor": 2
}
